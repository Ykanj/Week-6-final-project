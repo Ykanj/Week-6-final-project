{
 "cells": [
  {
   "cell_type": "markdown",
   "id": "d0d211ff",
   "metadata": {},
   "source": [
    "# Data Science Tools and Ecosystem"
   ]
  },
  {
   "cell_type": "markdown",
   "id": "30ddc6e5",
   "metadata": {},
   "source": [
    "In this notebook, Data Science Tools and Ecosystem are summarized."
   ]
  },
  {
   "cell_type": "markdown",
   "id": "fa659469",
   "metadata": {},
   "source": [
    "- Popular languages in Data Science\n",
    "- Common libraries in Data Science\n",
    "- Tools used in Data Science"
   ]
  },
  {
   "cell_type": "markdown",
   "id": "2387036d",
   "metadata": {},
   "source": [
    "Some of the popular languages that Data Scientists use are:\n",
    "1. Python\n",
    "2. R\n",
    "3. SQL"
   ]
  },
  {
   "cell_type": "markdown",
   "id": "484e8074",
   "metadata": {},
   "source": [
    "Some of the commonly used libraries used by Data Scientists include:\n",
    "1. Tensorflow\n",
    "2. Pandas\n",
    "3. Dplyr\n",
    "4. ggplot\n",
    "5. Numpy\n",
    "    "
   ]
  },
  {
   "cell_type": "markdown",
   "id": "071c27f7",
   "metadata": {},
   "source": [
    "| Data Science Tools |\n",
    "|:--------:|\n",
    "|  Jupyter notebooks   |\n",
    "|----------|\n",
    "|  Apache hadoop |\n",
    "|----------|\n",
    "| Rstudio  |\n"
   ]
  },
  {
   "cell_type": "markdown",
   "id": "008303ec",
   "metadata": {},
   "source": [
    "### Below are a few examples of evaluating arithmetic expressions in Python:\n",
    "1. 7*9=63\n",
    "2. 9/3=3\n",
    "3. 12+2=14"
   ]
  },
  {
   "cell_type": "code",
   "execution_count": 2,
   "id": "f25aae92",
   "metadata": {},
   "outputs": [
    {
     "name": "stdout",
     "output_type": "stream",
     "text": [
      "17\n"
     ]
    }
   ],
   "source": [
    "#This a simple arithmetic expression to mutiply then add integers\n",
    "\n",
    "x = (3*4)+5\n",
    "\n",
    "print(x)"
   ]
  },
  {
   "cell_type": "code",
   "execution_count": 3,
   "id": "9527f9ab",
   "metadata": {},
   "outputs": [
    {
     "name": "stdout",
     "output_type": "stream",
     "text": [
      "3.3333333333333335\n"
     ]
    }
   ],
   "source": [
    "#This will convert 200 minutes to hours by diving by 60\n",
    "\n",
    "mins= 200\n",
    "hours = mins/60\n",
    "print(hours)"
   ]
  },
  {
   "cell_type": "markdown",
   "id": "5aa2e3ef",
   "metadata": {},
   "source": [
    "## Author\n",
    "Yousef Kanj"
   ]
  },
  {
   "cell_type": "code",
   "execution_count": null,
   "id": "166510f5",
   "metadata": {},
   "outputs": [],
   "source": []
  }
 ],
 "metadata": {
  "kernelspec": {
   "display_name": "Python 3",
   "language": "python",
   "name": "python3"
  },
  "language_info": {
   "codemirror_mode": {
    "name": "ipython",
    "version": 3
   },
   "file_extension": ".py",
   "mimetype": "text/x-python",
   "name": "python",
   "nbconvert_exporter": "python",
   "pygments_lexer": "ipython3",
   "version": "3.10.9"
  }
 },
 "nbformat": 4,
 "nbformat_minor": 5
}
